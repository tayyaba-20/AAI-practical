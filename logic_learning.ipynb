{
  "nbformat": 4,
  "nbformat_minor": 0,
  "metadata": {
    "colab": {
      "provenance": [],
      "authorship_tag": "ABX9TyP879zMvPa7G9oO2vczlLrn",
      "include_colab_link": true
    },
    "kernelspec": {
      "name": "python3",
      "display_name": "Python 3"
    },
    "language_info": {
      "name": "python"
    }
  },
  "cells": [
    {
      "cell_type": "markdown",
      "metadata": {
        "id": "view-in-github",
        "colab_type": "text"
      },
      "source": [
        "<a href=\"https://colab.research.google.com/github/tayyaba-20/AAI-practical/blob/main/logic_learning.ipynb\" target=\"_parent\"><img src=\"https://colab.research.google.com/assets/colab-badge.svg\" alt=\"Open In Colab\"/></a>"
      ]
    },
    {
      "cell_type": "code",
      "execution_count": 1,
      "metadata": {
        "colab": {
          "base_uri": "https://localhost:8080/"
        },
        "id": "iXWMq6lCHiHN",
        "outputId": "3c8c7d9b-a4f6-46d8-f23b-2af0840cfa4d"
      },
      "outputs": [
        {
          "output_type": "stream",
          "name": "stdout",
          "text": [
            "Inferred Knowledge: {B, C}\n"
          ]
        }
      ],
      "source": [
        "from sympy import symbols, Implies\n",
        "\n",
        "class LogicLearningSystem:\n",
        "    def __init__(self):\n",
        "        self.rules = []\n",
        "        self.examples = []\n",
        "\n",
        "    def add_rule(self, rule):\n",
        "        \"\"\"Adds a logical rule to the system.\"\"\"\n",
        "        self.rules.append(rule)\n",
        "\n",
        "    def add_example(self, example):\n",
        "        \"\"\"Adds an example to the system.\"\"\"\n",
        "        self.examples.append(example)\n",
        "\n",
        "    def infer(self):\n",
        "        \"\"\"Attempts to infer new knowledge from rules and examples.\"\"\"\n",
        "        inferred_knowledge = set()  # Start with an empty set for new inferences\n",
        "        new_inferences = set(self.examples)  # Start with the examples (initial truths)\n",
        "\n",
        "        while new_inferences:\n",
        "            current_inferences = set()\n",
        "            for rule in self.rules:\n",
        "                for fact in new_inferences:\n",
        "                    # If the fact is the antecedent of a rule, infer the consequent\n",
        "                    if isinstance(rule, Implies) and fact == rule.args[0]:\n",
        "                        consequent = rule.args[1]\n",
        "                        if consequent not in inferred_knowledge:\n",
        "                            current_inferences.add(consequent)\n",
        "                            inferred_knowledge.add(consequent)\n",
        "            new_inferences = current_inferences\n",
        "\n",
        "        # Return only the inferred knowledge (excluding examples like A)\n",
        "        return inferred_knowledge - set(self.examples)\n",
        "\n",
        "# Define symbols\n",
        "A, B, C = symbols('A B C')\n",
        "\n",
        "# Initialize the logic learning system\n",
        "system = LogicLearningSystem()\n",
        "\n",
        "# Add rules\n",
        "system.add_rule(Implies(A, B))  # If A is true, then B is true\n",
        "system.add_rule(Implies(B, C))  # If B is true, then C is true\n",
        "\n",
        "# Add examples\n",
        "system.add_example(A)  # Given that A is true\n",
        "\n",
        "# Infer new knowledge\n",
        "inferred = system.infer()\n",
        "print(\"Inferred Knowledge:\", inferred)"
      ]
    }
  ]
}